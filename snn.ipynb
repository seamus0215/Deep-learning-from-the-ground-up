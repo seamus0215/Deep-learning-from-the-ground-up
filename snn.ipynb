{
 "cells": [
  {
   "cell_type": "code",
   "execution_count": 1,
   "id": "e8e72f65-40a5-4ad6-aa34-6d2a903f4345",
   "metadata": {},
   "outputs": [],
   "source": [
    "import pandas as pd\n",
    "import numpy as np\n",
    "import matplotlib.pyplot as plt\n",
    "\n",
    "%matplotlib inline\n",
    "\n",
    "import tensorflow as tf\n",
    "from tensorflow.keras.layers import Dense\n",
    "from tensorflow.keras.optimizers import SGD\n",
    "from tensorflow.keras.models import Sequential"
   ]
  },
  {
   "cell_type": "markdown",
   "id": "3fbf07eb-4047-4a03-b7a6-6217b7cfc1fe",
   "metadata": {},
   "source": [
    "#### Set random seed "
   ]
  },
  {
   "cell_type": "code",
   "execution_count": 2,
   "id": "3c180625-aab9-48c6-9dc1-c0b49f6becb8",
   "metadata": {},
   "outputs": [],
   "source": [
    "import random\n",
    "\n",
    "random.seed(2)\n",
    "tf.random.set_seed(2)\n",
    "np.random.seed(2)"
   ]
  },
  {
   "cell_type": "code",
   "execution_count": 3,
   "id": "9be35a55-e7db-4aa2-8598-0beb25a8d4ff",
   "metadata": {},
   "outputs": [
    {
     "data": {
      "text/html": [
       "<div>\n",
       "<style scoped>\n",
       "    .dataframe tbody tr th:only-of-type {\n",
       "        vertical-align: middle;\n",
       "    }\n",
       "\n",
       "    .dataframe tbody tr th {\n",
       "        vertical-align: top;\n",
       "    }\n",
       "\n",
       "    .dataframe thead th {\n",
       "        text-align: right;\n",
       "    }\n",
       "</style>\n",
       "<table border=\"1\" class=\"dataframe\">\n",
       "  <thead>\n",
       "    <tr style=\"text-align: right;\">\n",
       "      <th></th>\n",
       "      <th>tomato_sauce</th>\n",
       "      <th>barbecue_sauce</th>\n",
       "      <th>result</th>\n",
       "    </tr>\n",
       "  </thead>\n",
       "  <tbody>\n",
       "    <tr>\n",
       "      <th>0</th>\n",
       "      <td>no</td>\n",
       "      <td>no</td>\n",
       "      <td>sauce error</td>\n",
       "    </tr>\n",
       "    <tr>\n",
       "      <th>1</th>\n",
       "      <td>no</td>\n",
       "      <td>yes</td>\n",
       "      <td>good</td>\n",
       "    </tr>\n",
       "    <tr>\n",
       "      <th>2</th>\n",
       "      <td>yes</td>\n",
       "      <td>no</td>\n",
       "      <td>good</td>\n",
       "    </tr>\n",
       "    <tr>\n",
       "      <th>3</th>\n",
       "      <td>yes</td>\n",
       "      <td>yes</td>\n",
       "      <td>sauce error</td>\n",
       "    </tr>\n",
       "  </tbody>\n",
       "</table>\n",
       "</div>"
      ],
      "text/plain": [
       "  tomato_sauce barbecue_sauce       result\n",
       "0           no             no  sauce error\n",
       "1           no            yes         good\n",
       "2          yes             no         good\n",
       "3          yes            yes  sauce error"
      ]
     },
     "execution_count": 3,
     "metadata": {},
     "output_type": "execute_result"
    }
   ],
   "source": [
    "pizza_sauce = pd.DataFrame({\n",
    "    'tomato_sauce': ['no', 'no', 'yes', 'yes'],\n",
    "    'barbecue_sauce': ['no', 'yes', 'no', 'yes'],\n",
    "    'result': ['sauce error', 'good', 'good', 'sauce error']\n",
    "})\n",
    "\n",
    "pizza_sauce"
   ]
  },
  {
   "cell_type": "code",
   "execution_count": 6,
   "id": "3a9ceced-b597-4781-b9f4-a6db8bca5af8",
   "metadata": {},
   "outputs": [],
   "source": [
    "pizza_sauce['c_tomato_sauce'] = pizza_sauce['tomato_sauce'].apply(lambda x: 1 if x == 'yes' else 0)\n",
    "pizza_sauce['c_barbecue_sauce'] = pizza_sauce['barbecue_sauce'].apply(lambda x: 1 if x == 'yes' else 0)\n",
    "pizza_sauce['c_result'] = pizza_sauce['result'].apply(lambda x: 1 if x == 'sauce error' else 0)"
   ]
  },
  {
   "cell_type": "code",
   "execution_count": 7,
   "id": "11045b45-00f5-4589-b4e1-97c2a20e4bf5",
   "metadata": {},
   "outputs": [
    {
     "data": {
      "text/html": [
       "<div>\n",
       "<style scoped>\n",
       "    .dataframe tbody tr th:only-of-type {\n",
       "        vertical-align: middle;\n",
       "    }\n",
       "\n",
       "    .dataframe tbody tr th {\n",
       "        vertical-align: top;\n",
       "    }\n",
       "\n",
       "    .dataframe thead th {\n",
       "        text-align: right;\n",
       "    }\n",
       "</style>\n",
       "<table border=\"1\" class=\"dataframe\">\n",
       "  <thead>\n",
       "    <tr style=\"text-align: right;\">\n",
       "      <th></th>\n",
       "      <th>tomato_sauce</th>\n",
       "      <th>barbecue_sauce</th>\n",
       "      <th>result</th>\n",
       "      <th>c_tomato_sauce</th>\n",
       "      <th>c_barbecue_sauce</th>\n",
       "      <th>c_result</th>\n",
       "    </tr>\n",
       "  </thead>\n",
       "  <tbody>\n",
       "    <tr>\n",
       "      <th>0</th>\n",
       "      <td>no</td>\n",
       "      <td>no</td>\n",
       "      <td>sauce error</td>\n",
       "      <td>0</td>\n",
       "      <td>0</td>\n",
       "      <td>1</td>\n",
       "    </tr>\n",
       "    <tr>\n",
       "      <th>1</th>\n",
       "      <td>no</td>\n",
       "      <td>yes</td>\n",
       "      <td>good</td>\n",
       "      <td>0</td>\n",
       "      <td>1</td>\n",
       "      <td>0</td>\n",
       "    </tr>\n",
       "    <tr>\n",
       "      <th>2</th>\n",
       "      <td>yes</td>\n",
       "      <td>no</td>\n",
       "      <td>good</td>\n",
       "      <td>1</td>\n",
       "      <td>0</td>\n",
       "      <td>0</td>\n",
       "    </tr>\n",
       "    <tr>\n",
       "      <th>3</th>\n",
       "      <td>yes</td>\n",
       "      <td>yes</td>\n",
       "      <td>sauce error</td>\n",
       "      <td>1</td>\n",
       "      <td>1</td>\n",
       "      <td>1</td>\n",
       "    </tr>\n",
       "  </tbody>\n",
       "</table>\n",
       "</div>"
      ],
      "text/plain": [
       "  tomato_sauce barbecue_sauce       result  c_tomato_sauce  c_barbecue_sauce  \\\n",
       "0           no             no  sauce error               0                 0   \n",
       "1           no            yes         good               0                 1   \n",
       "2          yes             no         good               1                 0   \n",
       "3          yes            yes  sauce error               1                 1   \n",
       "\n",
       "   c_result  \n",
       "0         1  \n",
       "1         0  \n",
       "2         0  \n",
       "3         1  "
      ]
     },
     "execution_count": 7,
     "metadata": {},
     "output_type": "execute_result"
    }
   ],
   "source": [
    "pizza_sauce"
   ]
  },
  {
   "cell_type": "code",
   "execution_count": 8,
   "id": "41ed80dd-cf1d-431e-b53a-0aedfc2602d4",
   "metadata": {},
   "outputs": [
    {
     "data": {
      "text/plain": [
       "<AxesSubplot:xlabel='c_tomato_sauce', ylabel='c_barbecue_sauce'>"
      ]
     },
     "execution_count": 8,
     "metadata": {},
     "output_type": "execute_result"
    },
    {
     "data": {
      "image/png": "[encoded data removed]",
      "text/plain": [
       "<Figure size 432x288 with 2 Axes>"
      ]
     },
     "metadata": {
      "needs_background": "light"
     },
     "output_type": "display_data"
    }
   ],
   "source": [
    "pizza_sauce.plot(\n",
    "    kind='scatter',\n",
    "    x='c_tomato_sauce',\n",
    "    y='c_barbecue_sauce',\n",
    "    c='c_result',\n",
    "    colormap='jet'\n",
    ")"
   ]
  },
  {
   "cell_type": "code",
   "execution_count": null,
   "id": "d7b7c913-266a-423e-bbdc-6eaee1d21077",
   "metadata": {},
   "outputs": [],
   "source": []
  }
 ],
 "metadata": {
  "kernelspec": {
   "display_name": "Python 3 (ipykernel)",
   "language": "python",
   "name": "python3"
  },
  "language_info": {
   "codemirror_mode": {
    "name": "ipython",
    "version": 3
   },
   "file_extension": ".py",
   "mimetype": "text/x-python",
   "name": "python",
   "nbconvert_exporter": "python",
   "pygments_lexer": "ipython3",
   "version": "3.9.7"
  }
 },
 "nbformat": 4,
 "nbformat_minor": 5
}
